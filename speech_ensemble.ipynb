{
 "cells": [
  {
   "cell_type": "code",
   "execution_count": 2,
   "metadata": {},
   "outputs": [],
   "source": [
    "import librosa\n",
    "import soundfile\n",
    "import os, glob, pickle\n",
    "import numpy as np\n",
    "import pandas as pd\n",
    "import matplotlib.pyplot as plt\n",
    "import seaborn as sns\n",
    "from sklearn.model_selection import train_test_split\n",
    "from sklearn.svm import SVC\n",
    "from sklearn.metrics import accuracy_score"
   ]
  },
  {
   "cell_type": "code",
   "execution_count": 3,
   "metadata": {},
   "outputs": [],
   "source": [
    "#Extract features (mfcc, chroma, mel) from a sound file\n",
    "def extract_feature(file_name, mfcc, chroma, mel):\n",
    "    with soundfile.SoundFile(file_name) as sound_file:\n",
    "        X = sound_file.read(dtype=\"float32\")\n",
    "        sample_rate=sound_file.samplerate\n",
    "        if chroma:\n",
    "            stft=np.abs(librosa.stft(X))\n",
    "        result=np.array([])\n",
    "        if mfcc:\n",
    "            mfccs=np.mean(librosa.feature.mfcc(y=X, sr=sample_rate, n_mfcc=40).T, axis=0)\n",
    "            result=np.hstack((result, mfccs))\n",
    "        if chroma:\n",
    "            chroma=np.mean(librosa.feature.chroma_stft(S=stft, sr=sample_rate).T,axis=0)\n",
    "            result=np.hstack((result, chroma))\n",
    "        if mel:\n",
    "            mel=np.mean(librosa.feature.melspectrogram(X, sr=sample_rate).T,axis=0)\n",
    "            result=np.hstack((result, mel))\n",
    "    return result"
   ]
  },
  {
   "cell_type": "code",
   "execution_count": 4,
   "metadata": {},
   "outputs": [],
   "source": [
    "#Emotions in the RAVDESS dataset\n",
    "emotions={\n",
    "  '01':'neutral',\n",
    "  '02':'calm',\n",
    "  '03':'happy',\n",
    "  '04':'sad',\n",
    "  '05':'angry',\n",
    "  '06':'fearful',\n",
    "  '07':'disgust',\n",
    "  '08':'surprised'\n",
    "}\n",
    "\n",
    "#Emotions to observe\n",
    "# observed_emotions=['calm', 'happy', 'fearful', 'angry','disgust','surprised','sad','neutral']\n",
    "observed_emotions=['sad', 'happy', 'neutral', 'angry']"
   ]
  },
  {
   "cell_type": "code",
   "execution_count": 5,
   "metadata": {},
   "outputs": [],
   "source": [
    "#Load the data and extract features for each sound file\n",
    "def load_data(test_size=0.2):\n",
    "    x,y=[],[]\n",
    "    for file in glob.glob(\"dataset/Actor_*/*.wav\"):\n",
    "        file_name=os.path.basename(file)\n",
    "        emotion=emotions[file_name.split(\"-\")[2]]\n",
    "        if emotion not in observed_emotions:\n",
    "            continue\n",
    "        feature=extract_feature(file, mfcc=True, chroma=True, mel=True)\n",
    "        x.append(feature)\n",
    "        y.append(emotion)\n",
    "        \n",
    "    return train_test_split(np.array(x), y, test_size=test_size, random_state=9)\n"
   ]
  },
  {
   "cell_type": "code",
   "execution_count": 6,
   "metadata": {},
   "outputs": [],
   "source": [
    "#Split the dataset\n",
    "x_train,x_test,y_train,y_test=load_data(test_size=0.2)"
   ]
  },
  {
   "cell_type": "code",
   "execution_count": 7,
   "metadata": {},
   "outputs": [],
   "source": [
    "from sklearn.tree import DecisionTreeClassifier\n",
    "from sklearn.ensemble import RandomForestClassifier\n",
    "from sklearn.svm import SVC\n",
    "from sklearn.neighbors import KNeighborsClassifier\n",
    "from sklearn.linear_model import LogisticRegression\n",
    "from sklearn.model_selection import cross_val_score\n",
    "from sklearn.model_selection import RepeatedStratifiedKFold\n",
    "from sklearn.ensemble import VotingClassifier\n",
    "from sklearn.pipeline import Pipeline\n",
    "from sklearn.neural_network import MLPClassifier\n",
    "# get models\n",
    "# get a voting ensemble of models\n",
    "# define the base models\n",
    "models = list()\n",
    "\n",
    "# decision_tree = Pipeline([('m', DecisionTreeClassifier())])\n",
    "# models.append(('decision', decision_tree))\n",
    "\n",
    "# neigh = Pipeline([('m',KNeighborsClassifier(n_neighbors = 4))])\n",
    "# models.append(('knn',neigh))\n",
    "\n",
    "randomforest = RandomForestClassifier(n_estimators = 100, random_state = 0)\n",
    "models.append(('randomforest', randomforest))\n",
    "\n",
    "# svc =  SVC(kernel = 'linear', C = 1)\n",
    "# models.append(('svc', svc))\n",
    "\n",
    "# clf = Pipeline([('m',MLPClassifier(random_state=1, max_iter=300))])\n",
    "# models.append(('mlp',clf))\n",
    "# logistic = Pipeline([('m',LogisticRegression())])\n",
    "# models.append(('lr',logistic))\n",
    "\n",
    "# define the voting ensemble\n",
    "ensemble = VotingClassifier(estimators=models, voting='hard')"
   ]
  },
  {
   "cell_type": "code",
   "execution_count": 8,
   "metadata": {},
   "outputs": [
    {
     "name": "stdout",
     "output_type": "stream",
     "text": [
      "(537, 135)\n"
     ]
    }
   ],
   "source": [
    "#Get the shape of the training and testing datasets\n",
    "print((x_train.shape[0], x_test.shape[0]))"
   ]
  },
  {
   "cell_type": "code",
   "execution_count": 9,
   "metadata": {},
   "outputs": [
    {
     "name": "stdout",
     "output_type": "stream",
     "text": [
      "Features extracted: 180\n"
     ]
    }
   ],
   "source": [
    "#Get the number of features extracted\n",
    "print(f'Features extracted: {x_train.shape[1]}')"
   ]
  },
  {
   "cell_type": "code",
   "execution_count": 10,
   "metadata": {},
   "outputs": [
    {
     "data": {
      "text/plain": [
       "VotingClassifier(estimators=[('randomforest',\n",
       "                              RandomForestClassifier(random_state=0))])"
      ]
     },
     "execution_count": 10,
     "metadata": {},
     "output_type": "execute_result"
    }
   ],
   "source": [
    "#Train the model\n",
    "ensemble.fit(x_train,y_train)"
   ]
  },
  {
   "cell_type": "code",
   "execution_count": 11,
   "metadata": {},
   "outputs": [
    {
     "data": {
      "text/plain": [
       "array(['angry', 'sad', 'angry', 'sad', 'angry', 'sad', 'angry', 'happy',\n",
       "       'happy', 'happy', 'happy', 'sad', 'neutral', 'sad', 'happy',\n",
       "       'happy', 'sad', 'neutral', 'happy', 'sad', 'sad', 'happy', 'angry',\n",
       "       'neutral', 'sad', 'happy', 'sad', 'angry', 'neutral', 'angry',\n",
       "       'sad', 'angry', 'angry', 'neutral', 'sad', 'sad', 'sad', 'angry',\n",
       "       'angry', 'angry', 'happy', 'happy', 'sad', 'sad', 'happy',\n",
       "       'neutral', 'happy', 'angry', 'sad', 'happy', 'sad', 'happy',\n",
       "       'angry', 'angry', 'sad', 'neutral', 'sad', 'happy', 'happy',\n",
       "       'angry', 'happy', 'angry', 'sad', 'sad', 'sad', 'happy', 'angry',\n",
       "       'sad', 'angry', 'happy', 'happy', 'happy', 'sad', 'angry', 'sad',\n",
       "       'angry', 'neutral', 'happy', 'angry', 'sad', 'happy', 'neutral',\n",
       "       'sad', 'happy', 'sad', 'angry', 'happy', 'angry', 'happy', 'happy',\n",
       "       'angry', 'neutral', 'angry', 'happy', 'happy', 'happy', 'sad',\n",
       "       'sad', 'angry', 'happy', 'happy', 'happy', 'happy', 'happy', 'sad',\n",
       "       'happy', 'happy', 'angry', 'sad', 'angry', 'happy', 'neutral',\n",
       "       'happy', 'angry', 'sad', 'happy', 'angry', 'happy', 'sad', 'sad',\n",
       "       'angry', 'angry', 'happy', 'happy', 'angry', 'sad', 'happy',\n",
       "       'happy', 'sad', 'sad', 'happy', 'sad', 'angry', 'angry', 'happy'],\n",
       "      dtype='<U7')"
      ]
     },
     "execution_count": 11,
     "metadata": {},
     "output_type": "execute_result"
    }
   ],
   "source": [
    "#Predict for the test set\n",
    "y_pred=ensemble.predict(x_test)\n",
    "y_pred"
   ]
  },
  {
   "cell_type": "code",
   "execution_count": 12,
   "metadata": {},
   "outputs": [
    {
     "name": "stdout",
     "output_type": "stream",
     "text": [
      "Accuracy: 72.59%\n"
     ]
    }
   ],
   "source": [
    "#Calculate the accuracy of our model\n",
    "accuracy=accuracy_score(y_true=y_test, y_pred=y_pred)\n",
    "\n",
    "#Print the accuracy\n",
    "print(\"Accuracy: {:.2f}%\".format(accuracy*100))"
   ]
  },
  {
   "cell_type": "code",
   "execution_count": 17,
   "metadata": {},
   "outputs": [
    {
     "ename": "AttributeError",
     "evalue": "'VotingClassifier' object has no attribute 'history'",
     "output_type": "error",
     "traceback": [
      "\u001b[0;31m---------------------------------------------------------------------------\u001b[0m",
      "\u001b[0;31mAttributeError\u001b[0m                            Traceback (most recent call last)",
      "\u001b[0;32m<ipython-input-17-3aeac8fdc6a4>\u001b[0m in \u001b[0;36m<module>\u001b[0;34m\u001b[0m\n\u001b[1;32m      1\u001b[0m \u001b[0mhistory\u001b[0m \u001b[0;34m=\u001b[0m \u001b[0mensemble\u001b[0m\u001b[0;34m.\u001b[0m\u001b[0mfit\u001b[0m\u001b[0;34m(\u001b[0m\u001b[0mx_train\u001b[0m\u001b[0;34m,\u001b[0m \u001b[0my_train\u001b[0m\u001b[0;34m)\u001b[0m\u001b[0;34m\u001b[0m\u001b[0;34m\u001b[0m\u001b[0m\n\u001b[0;32m----> 2\u001b[0;31m \u001b[0mplt\u001b[0m\u001b[0;34m.\u001b[0m\u001b[0mplot\u001b[0m\u001b[0;34m(\u001b[0m\u001b[0mhistory\u001b[0m\u001b[0;34m.\u001b[0m\u001b[0mhistory\u001b[0m\u001b[0;34m[\u001b[0m\u001b[0;34m'acc'\u001b[0m\u001b[0;34m]\u001b[0m\u001b[0;34m)\u001b[0m\u001b[0;34m\u001b[0m\u001b[0;34m\u001b[0m\u001b[0m\n\u001b[0m\u001b[1;32m      3\u001b[0m \u001b[0mplt\u001b[0m\u001b[0;34m.\u001b[0m\u001b[0mplot\u001b[0m\u001b[0;34m(\u001b[0m\u001b[0mhistory\u001b[0m\u001b[0;34m.\u001b[0m\u001b[0mhistory\u001b[0m\u001b[0;34m[\u001b[0m\u001b[0;34m'val_acc'\u001b[0m\u001b[0;34m]\u001b[0m\u001b[0;34m)\u001b[0m\u001b[0;34m\u001b[0m\u001b[0;34m\u001b[0m\u001b[0m\n\u001b[1;32m      4\u001b[0m \u001b[0mplt\u001b[0m\u001b[0;34m.\u001b[0m\u001b[0mtitle\u001b[0m\u001b[0;34m(\u001b[0m\u001b[0;34m'model accuracy'\u001b[0m\u001b[0;34m)\u001b[0m\u001b[0;34m\u001b[0m\u001b[0;34m\u001b[0m\u001b[0m\n\u001b[1;32m      5\u001b[0m \u001b[0mplt\u001b[0m\u001b[0;34m.\u001b[0m\u001b[0mylabel\u001b[0m\u001b[0;34m(\u001b[0m\u001b[0;34m'accuracy'\u001b[0m\u001b[0;34m)\u001b[0m\u001b[0;34m\u001b[0m\u001b[0;34m\u001b[0m\u001b[0m\n",
      "\u001b[0;31mAttributeError\u001b[0m: 'VotingClassifier' object has no attribute 'history'"
     ]
    }
   ],
   "source": [
    "history = ensemble.fit(x_train, y_train)\n",
    "plt.plot(history.history['acc'])\n",
    "plt.plot(history.history['val_acc'])\n",
    "plt.title('model accuracy')\n",
    "plt.ylabel('accuracy')\n",
    "plt.xlabel('epoch')\n",
    "plt.legend(['train', 'val'], loc='upper left')\n",
    "plt.show()"
   ]
  },
  {
   "cell_type": "code",
   "execution_count": 240,
   "metadata": {},
   "outputs": [
    {
     "name": "stdout",
     "output_type": "stream",
     "text": [
      "              precision    recall  f1-score   support\n",
      "\n",
      "       angry       0.73      0.84      0.78        43\n",
      "       happy       0.57      0.63      0.60        41\n",
      "     neutral       0.53      0.64      0.58        14\n",
      "         sad       0.65      0.41      0.50        37\n",
      "\n",
      "    accuracy                           0.64       135\n",
      "   macro avg       0.62      0.63      0.62       135\n",
      "weighted avg       0.64      0.64      0.63       135\n",
      "\n"
     ]
    }
   ],
   "source": [
    "#Classification Report\n",
    "from sklearn.metrics import classification_report\n",
    "print(classification_report(y_test,y_pred))"
   ]
  },
  {
   "cell_type": "code",
   "execution_count": 401,
   "metadata": {},
   "outputs": [
    {
     "data": {
      "image/png": "[encoded data removed]",
      "text/plain": [
       "<Figure size 432x288 with 2 Axes>"
      ]
     },
     "metadata": {
      "needs_background": "light"
     },
     "output_type": "display_data"
    }
   ],
   "source": [
    "#Confusion matrix\n",
    "from sklearn.metrics import confusion_matrix\n",
    "cm = confusion_matrix(y_test,y_pred)\n",
    "df_cm = pd.DataFrame(cm)\n",
    "sns.heatmap(df_cm,annot=True,fmt='')\n",
    "plt.title('Confusion Matix:',size=20)\n",
    "plt.xlabel('Predicted Labels',size=14)\n",
    "plt.ylabel('Actual Labels',size=14)\n",
    "plt.savefig('Initial_Model_SVM_Confusion_matrix.png')\n",
    "plt.show()"
   ]
  },
  {
   "cell_type": "markdown",
   "metadata": {},
   "source": [
    "# Save the model"
   ]
  },
  {
   "cell_type": "code",
   "execution_count": 402,
   "metadata": {},
   "outputs": [
    {
     "name": "stdout",
     "output_type": "stream",
     "text": [
      "Test score: 50.35 %\n"
     ]
    }
   ],
   "source": [
    "import pickle\n",
    "\n",
    "pkl_filename = \"pickle_model.pkl\"\n",
    "with open(pkl_filename,'wb') as file:\n",
    "    pickle.dump(ensemble,file)\n",
    "    \n",
    "with open(pkl_filename, 'rb') as file:\n",
    "    pickle_model = pickle.load(file)\n",
    "    \n",
    "score = pickle_model.score(x_test,y_test)\n",
    "print(\"Test score: {0:.2f} %\".format(100 * score))\n",
    "Ypredict = pickle_model.predict(x_test)"
   ]
  },
  {
   "cell_type": "code",
   "execution_count": 403,
   "metadata": {},
   "outputs": [
    {
     "data": {
      "text/plain": [
       "array(['surprised', 'surprised', 'fearful', 'angry', 'calm', 'happy',\n",
       "       'fearful', 'disgust', 'calm', 'angry', 'surprised', 'angry',\n",
       "       'happy', 'fearful', 'disgust', 'angry', 'happy', 'sad', 'angry',\n",
       "       'neutral', 'disgust', 'angry', 'fearful', 'angry', 'fearful',\n",
       "       'calm', 'calm', 'disgust', 'fearful', 'angry', 'happy', 'happy',\n",
       "       'sad', 'sad', 'calm', 'angry', 'disgust', 'disgust', 'surprised',\n",
       "       'calm', 'disgust', 'calm', 'fearful', 'calm', 'surprised', 'angry',\n",
       "       'angry', 'angry', 'disgust', 'calm', 'angry', 'calm', 'neutral',\n",
       "       'calm', 'calm', 'fearful', 'sad', 'calm', 'calm', 'happy',\n",
       "       'disgust', 'calm', 'sad', 'sad', 'happy', 'disgust', 'angry',\n",
       "       'disgust', 'calm', 'happy', 'surprised', 'happy', 'calm', 'angry',\n",
       "       'fearful', 'surprised', 'sad', 'happy', 'disgust', 'calm', 'calm',\n",
       "       'fearful', 'calm', 'angry', 'sad', 'disgust', 'disgust', 'fearful',\n",
       "       'angry', 'calm', 'calm', 'calm', 'disgust', 'fearful', 'calm',\n",
       "       'neutral', 'angry', 'angry', 'disgust', 'calm', 'angry', 'angry',\n",
       "       'fearful', 'fearful', 'disgust', 'fearful', 'neutral', 'calm',\n",
       "       'disgust', 'calm', 'calm', 'angry', 'angry', 'angry', 'fearful',\n",
       "       'calm', 'angry', 'disgust', 'angry', 'disgust', 'angry', 'calm',\n",
       "       'happy', 'sad', 'angry', 'angry', 'angry', 'calm', 'angry',\n",
       "       'angry', 'angry', 'disgust', 'calm', 'happy', 'angry', 'sad',\n",
       "       'fearful', 'angry', 'sad', 'disgust', 'happy', 'neutral', 'angry',\n",
       "       'angry', 'calm', 'calm', 'surprised', 'surprised', 'happy',\n",
       "       'surprised', 'calm', 'happy', 'surprised', 'happy', 'surprised',\n",
       "       'fearful', 'surprised', 'angry', 'sad', 'disgust', 'calm', 'happy',\n",
       "       'calm', 'calm', 'neutral', 'angry', 'disgust', 'sad', 'disgust',\n",
       "       'fearful', 'happy', 'disgust', 'surprised', 'sad', 'surprised',\n",
       "       'disgust', 'happy', 'disgust', 'sad', 'calm', 'calm', 'disgust',\n",
       "       'angry', 'happy', 'calm', 'angry', 'sad', 'fearful', 'sad',\n",
       "       'disgust', 'disgust', 'calm', 'calm', 'calm', 'calm', 'happy',\n",
       "       'calm', 'angry', 'surprised', 'angry', 'calm', 'surprised',\n",
       "       'happy', 'calm', 'fearful', 'fearful', 'angry', 'calm', 'happy',\n",
       "       'fearful', 'disgust', 'calm', 'surprised', 'disgust', 'happy',\n",
       "       'calm', 'calm', 'neutral', 'angry', 'sad', 'calm', 'calm',\n",
       "       'disgust', 'disgust', 'calm', 'angry', 'angry', 'disgust',\n",
       "       'fearful', 'fearful', 'disgust', 'happy', 'happy', 'sad', 'calm',\n",
       "       'fearful', 'fearful', 'fearful', 'calm', 'angry', 'disgust',\n",
       "       'calm', 'calm', 'fearful', 'disgust', 'surprised', 'angry', 'calm',\n",
       "       'disgust', 'angry', 'surprised', 'sad', 'angry', 'angry', 'calm',\n",
       "       'calm', 'sad', 'happy', 'happy', 'disgust', 'sad', 'angry', 'calm',\n",
       "       'angry', 'angry', 'disgust', 'happy', 'sad', 'angry', 'calm',\n",
       "       'angry', 'happy', 'surprised', 'disgust', 'sad', 'calm', 'calm',\n",
       "       'angry', 'fearful', 'calm', 'fearful', 'sad', 'angry', 'calm',\n",
       "       'angry', 'surprised', 'calm', 'calm'], dtype='<U9')"
      ]
     },
     "execution_count": 403,
     "metadata": {},
     "output_type": "execute_result"
    }
   ],
   "source": [
    "Ypredict"
   ]
  },
  {
   "cell_type": "code",
   "execution_count": null,
   "metadata": {},
   "outputs": [],
   "source": []
  }
 ],
 "metadata": {
  "kernelspec": {
   "display_name": "Python 3",
   "language": "python",
   "name": "python3"
  },
  "language_info": {
   "codemirror_mode": {
    "name": "ipython",
    "version": 3
   },
   "file_extension": ".py",
   "mimetype": "text/x-python",
   "name": "python",
   "nbconvert_exporter": "python",
   "pygments_lexer": "ipython3",
   "version": "3.8.10"
  }
 },
 "nbformat": 4,
 "nbformat_minor": 4
}
